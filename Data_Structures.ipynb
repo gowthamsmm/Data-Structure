{
  "nbformat": 4,
  "nbformat_minor": 0,
  "metadata": {
    "colab": {
      "provenance": []
    },
    "kernelspec": {
      "name": "python3",
      "display_name": "Python 3"
    },
    "language_info": {
      "name": "python"
    }
  },
  "cells": [
    {
      "cell_type": "code",
      "execution_count": null,
      "metadata": {
        "colab": {
          "base_uri": "https://localhost:8080/"
        },
        "collapsed": true,
        "id": "a7UyW-aMOUt4",
        "outputId": "e686982c-6e86-47c8-b03c-915c78044a05"
      },
      "outputs": [
        {
          "output_type": "stream",
          "name": "stdout",
          "text": [
            "dlroW olleH\n"
          ]
        }
      ],
      "source": [
        "# 1. Write a code to reverse a string.\n",
        "def reverse_string(text):\n",
        "    return text[::-1]\n",
        "\n",
        "# Example usage\n",
        "text = \"Hello World\"\n",
        "reversed_text = reverse_string(text)\n",
        "print(reversed_text)  # Output: \"dlroW olleH\"\n"
      ]
    },
    {
      "cell_type": "code",
      "source": [
        "# 2. Write a code to count the number of vowels in a string.\n",
        "def count_vowels(text):\n",
        "    vowels = {'a', 'e', 'i', 'o', 'u', 'A', 'E', 'I', 'O', 'U'}\n",
        "    count = 0\n",
        "    for letter in text:\n",
        "        if letter in vowels:\n",
        "            count += 1\n",
        "    return count\n",
        "\n",
        "# Example usage with multiple texts\n",
        "print(count_vowels(\"Hello World\"))        # Output: 3 (e, o, o)\n",
        "print(count_vowels(\"Sunny Hills\"))        # Output: 2 (u, i)\n",
        "print(count_vowels(\"I like to code\"))     # Output: 5 (I, i, e, o, e)\n",
        "print(count_vowels(\"PYTHON RULES\"))       # Output: 2 (O, U)\n",
        "print(count_vowels(\"aEiOu\"))              # Output: 5 (a, E, i, O, u)"
      ],
      "metadata": {
        "colab": {
          "base_uri": "https://localhost:8080/"
        },
        "collapsed": true,
        "id": "OcILYzJhO3MY",
        "outputId": "2be2382e-3dab-4718-bd16-170ae323280c"
      },
      "execution_count": null,
      "outputs": [
        {
          "output_type": "stream",
          "name": "stdout",
          "text": [
            "3\n",
            "2\n",
            "6\n",
            "3\n",
            "5\n"
          ]
        }
      ]
    },
    {
      "cell_type": "code",
      "source": [
        "# 3. Write a code to check if a given string is a palindrome or not.\n",
        "def is_palindrome(text):\n",
        "    # Clean the string: lowercase and alphanumeric only\n",
        "    text = ''.join(char for char in text.lower() if char.isalnum())\n",
        "\n",
        "    # Helper recursive function\n",
        "    def check_palindrome(s, start, end):\n",
        "        # Base case: if pointers meet or cross, it's a palindrome\n",
        "        if start >= end:\n",
        "            return True\n",
        "        # If characters don't match, not a palindrome\n",
        "        if s[start] != s[end]:\n",
        "            return False\n",
        "        # Recursive call with next pair of characters\n",
        "        return check_palindrome(s, start + 1, end - 1)\n",
        "\n",
        "    # Start recursion with full string\n",
        "    return check_palindrome(text, 0, len(text) - 1)\n",
        "\n",
        "# Test cases\n",
        "print(is_palindrome(\"Hello World\"))      # Output: False\n",
        "print(is_palindrome(\"level\"))            # Output: True\n",
        "print(is_palindrome(\"Racecar\"))          # Output: True\n",
        "print(is_palindrome(\"Python3\"))          # Output: False\n",
        "print(is_palindrome(\"Madam\"))            # Output: True"
      ],
      "metadata": {
        "colab": {
          "base_uri": "https://localhost:8080/"
        },
        "collapsed": true,
        "id": "QfQ7n57tQzRD",
        "outputId": "e0de6ca5-b19f-4c74-9b14-21a54f585dc4"
      },
      "execution_count": null,
      "outputs": [
        {
          "output_type": "stream",
          "name": "stdout",
          "text": [
            "False\n",
            "True\n",
            "True\n",
            "False\n",
            "True\n"
          ]
        }
      ]
    },
    {
      "cell_type": "code",
      "source": [
        "# 4. Write a code to check if two given strings are anagrams of each other.\n",
        "def are_anagrams(str1, str2):\n",
        "    # Clean strings: lowercase and remove non-alphanumeric characters\n",
        "    str1 = ''.join(char for char in str1.lower() if char.isalnum())\n",
        "    str2 = ''.join(char for char in str2.lower() if char.isalnum())\n",
        "\n",
        "    # If lengths are different, they can't be anagrams\n",
        "    if len(str1) != len(str2):\n",
        "        return False\n",
        "\n",
        "    # Sort both strings and compare\n",
        "    return sorted(str1) == sorted(str2)\n",
        "\n",
        "# Test cases\n",
        "print(are_anagrams(\"Listen\", \"Silent\"))        # Output: True\n",
        "print(are_anagrams(\"Hello\", \"World\"))          # Output: False\n",
        "print(are_anagrams(\"Debit Card\", \"Bad Credit\")) # Output: True\n",
        "print(are_anagrams(\"Python\", \"Java\"))          # Output: False\n",
        "print(are_anagrams(\"A gentleman\", \"Elegant man\")) # Output: True"
      ],
      "metadata": {
        "colab": {
          "base_uri": "https://localhost:8080/"
        },
        "collapsed": true,
        "id": "mnIV9pk6RrJ7",
        "outputId": "baea938b-12c1-418e-ef7d-89356154ebca"
      },
      "execution_count": null,
      "outputs": [
        {
          "output_type": "stream",
          "name": "stdout",
          "text": [
            "True\n",
            "False\n",
            "True\n",
            "False\n",
            "True\n"
          ]
        }
      ]
    },
    {
      "cell_type": "code",
      "source": [
        "# 5. Write a code to find all occurrences of a given substring within another string.\n",
        "def find_all_occurrences(main_string, substring):\n",
        "    positions = []  # List to store positions\n",
        "    pos = 0         # Starting position\n",
        "\n",
        "    # Keep finding substring until we can't\n",
        "    while True:\n",
        "        pos = main_string.find(substring, pos)  # Find next occurrence\n",
        "        if pos == -1:  # If not found, stop\n",
        "            break\n",
        "        positions.append(pos)  # Save the position\n",
        "        pos += 1       # Move to next position\n",
        "\n",
        "    return positions\n",
        "\n",
        "# Test cases\n",
        "print(find_all_occurrences(\"hello hello world hello\", \"hello\"))\n",
        "# Output: [0, 6, 13]  (\"hello\" at start, after first space, after \"world\")\n",
        "\n",
        "print(find_all_occurrences(\"no match here\", \"xyz\"))\n",
        "# Output: []  (\"xyz\" not found)\n",
        "\n",
        "print(find_all_occurrences(\"test test test\", \"test\"))\n",
        "# Output: [0, 5, 10]  (\"test\" three times)\n",
        "\n",
        "print(find_all_occurrences(\"dog dog cat dog\", \"dog\"))\n",
        "# Output: [0, 4, 12]  (\"dog\" at start, after space, after \"cat\")"
      ],
      "metadata": {
        "colab": {
          "base_uri": "https://localhost:8080/"
        },
        "collapsed": true,
        "id": "GZhIGwlkSm-m",
        "outputId": "0105b720-5fc1-4c5e-c466-62b4a9f3df37"
      },
      "execution_count": null,
      "outputs": [
        {
          "output_type": "stream",
          "name": "stdout",
          "text": [
            "[0, 6, 18]\n",
            "[]\n",
            "[0, 5, 10]\n",
            "[0, 4, 12]\n"
          ]
        }
      ]
    },
    {
      "cell_type": "code",
      "source": [
        "# 6. Write a code to perform basic string compression using the counts of repeated characters.\n",
        "def compress_string(s):\n",
        "    if not s:  # If string is empty, return empty string\n",
        "        return \"\"\n",
        "\n",
        "    compressed = \"\"    # String to store result\n",
        "    count = 1          # Count of current character\n",
        "    current_char = s[0]  # Start with first character\n",
        "\n",
        "    # Loop through string starting from second character\n",
        "    for i in range(1, len(s)):\n",
        "        if s[i] == current_char:  # If current char matches previous\n",
        "            count += 1\n",
        "        else:  # If different, add char and count to result\n",
        "            compressed += current_char + str(count)\n",
        "            current_char = s[i]  # Update to new character\n",
        "            count = 1  # Reset count\n",
        "\n",
        "    # Add the last group of characters\n",
        "    compressed += current_char + str(count)\n",
        "\n",
        "    # Return original string if compressed version is not shorter\n",
        "    return compressed if len(compressed) < len(s) else s\n",
        "\n",
        "# Test cases\n",
        "print(compress_string(\"aabbbcccc\"))    # Output: \"a2b3c4\"\n",
        "print(compress_string(\"aaa\"))          # Output: \"a3\"\n",
        "print(compress_string(\"abcd\"))         # Output: \"abcd\" (no compression, same length)\n",
        "print(compress_string(\"a\"))            # Output: \"a\" (no compression needed)"
      ],
      "metadata": {
        "colab": {
          "base_uri": "https://localhost:8080/"
        },
        "collapsed": true,
        "id": "Nd1s0XzUU0Zq",
        "outputId": "264dbf68-13b8-4cb3-f4ef-a2e84b86bf87"
      },
      "execution_count": null,
      "outputs": [
        {
          "output_type": "stream",
          "name": "stdout",
          "text": [
            "a2b3c4\n",
            "a3\n",
            "abcd\n",
            "a\n"
          ]
        }
      ]
    },
    {
      "cell_type": "code",
      "source": [
        "# 7. Write a code to determine if a string has all unique characters.\n",
        "def has_unique_chars(s):\n",
        "    # Remove spaces if you don't want to count them (optional)\n",
        "    s = s.replace(\" \", \"\")\n",
        "\n",
        "    # Convert string to set (sets only keep unique elements)\n",
        "    char_set = set(s)\n",
        "\n",
        "    # Compare lengths: if equal, all chars are unique\n",
        "    return len(char_set) == len(s)\n",
        "\n",
        "# Test cases\n",
        "print(has_unique_chars(\"abcdef\"))      # Output: True (all unique)\n",
        "print(has_unique_chars(\"hello\"))       # Output: False (l repeats)\n",
        "print(has_unique_chars(\"12345\"))       # Output: True (all unique)\n",
        "print(has_unique_chars(\"aabbcc\"))      # Output: False (a, b, c repeat)\n",
        "print(has_unique_chars(\"aaa\"))         # Output: False (a repeats)"
      ],
      "metadata": {
        "colab": {
          "base_uri": "https://localhost:8080/"
        },
        "collapsed": true,
        "id": "6DDF3g5lWb_X",
        "outputId": "c251d1c8-1265-4912-8caf-7f6e2cae5aa8"
      },
      "execution_count": null,
      "outputs": [
        {
          "output_type": "stream",
          "name": "stdout",
          "text": [
            "True\n",
            "False\n",
            "True\n",
            "False\n",
            "False\n"
          ]
        }
      ]
    },
    {
      "cell_type": "code",
      "source": [
        "# 8. Write a code to convert a given string to uppercase or lowercase.\n",
        "def convert_case(s, to_upper=True):\n",
        "    if to_upper:  # If True, convert to uppercase\n",
        "        return s.upper()\n",
        "    else:        # If False, convert to lowercase\n",
        "        return s.lower()\n",
        "\n",
        "# Test cases\n",
        "print(convert_case(\"Hello World\", True))    # Output: \"HELLO WORLD\"\n",
        "print(convert_case(\"Hello World\", False))   # Output: \"hello world\"\n",
        "print(convert_case(\"PyThOn\", True))         # Output: \"PYTHON\"\n",
        "print(convert_case(\"PyThOn\", False))        # Output: \"python\"\n"
      ],
      "metadata": {
        "colab": {
          "base_uri": "https://localhost:8080/"
        },
        "collapsed": true,
        "id": "R9LJW-KyWvu3",
        "outputId": "52e7cd80-8fd8-4ae7-81e7-c0d499e3b502"
      },
      "execution_count": null,
      "outputs": [
        {
          "output_type": "stream",
          "name": "stdout",
          "text": [
            "HELLO WORLD\n",
            "hello world\n",
            "PYTHON\n",
            "python\n"
          ]
        }
      ]
    },
    {
      "cell_type": "code",
      "source": [
        "# 9. Write a code to count the number of words in a string.\n",
        "def count_words(s):\n",
        "    # Remove extra spaces and split into words\n",
        "    words = s.strip().split()\n",
        "    # Return the number of words\n",
        "    return len(words)\n",
        "\n",
        "# Test cases\n",
        "print(count_words(\"Hello World\"))          # Output: 2\n",
        "print(count_words(\"This is a test\"))       # Output: 4\n",
        "print(count_words(\"Python\"))               # Output: 1\n",
        "print(count_words(\"One-word\"))             # Output: 1\n",
        "print(count_words(\"Hi   there  all\"))      # Output: 3"
      ],
      "metadata": {
        "colab": {
          "base_uri": "https://localhost:8080/"
        },
        "collapsed": true,
        "id": "UUUd_zk4XIyC",
        "outputId": "e1a39c33-ce9f-4d08-f194-21d8a1973a91"
      },
      "execution_count": null,
      "outputs": [
        {
          "output_type": "stream",
          "name": "stdout",
          "text": [
            "2\n",
            "4\n",
            "1\n",
            "1\n",
            "3\n"
          ]
        }
      ]
    },
    {
      "cell_type": "code",
      "source": [
        "# 10. Write a code to concatenate two strings without using the + operator.\n",
        "def concatenate_strings(str1, str2):\n",
        "    # Use join() to combine the strings\n",
        "    return ''.join([str1, str2])\n",
        "\n",
        "# Test cases\n",
        "print(concatenate_strings(\"Hello\", \"World\"))      # Output: \"HelloWorld\"\n",
        "print(concatenate_strings(\"Python\", \"3\"))         # Output: \"Python3\"\n",
        "print(concatenate_strings(\"\", \"Test\"))            # Output: \"Test\"\n",
        "print(concatenate_strings(\"Hi \", \"there\"))        # Output: \"Hi there\""
      ],
      "metadata": {
        "colab": {
          "base_uri": "https://localhost:8080/"
        },
        "collapsed": true,
        "id": "Vp8pBDjVXahm",
        "outputId": "09e7b4b2-5df0-4665-821c-8e8783363c73"
      },
      "execution_count": null,
      "outputs": [
        {
          "output_type": "stream",
          "name": "stdout",
          "text": [
            "HelloWorld\n",
            "Python3\n",
            "Test\n",
            "Hi there\n"
          ]
        }
      ]
    },
    {
      "cell_type": "code",
      "source": [
        "# 11. Write a code to remove all occurrences of a specific element from a list.\n",
        "def remove_element(lst, element):\n",
        "    # Create a new list with all items except the specified element\n",
        "    return [x for x in lst if x != element]\n",
        "\n",
        "# Test cases\n",
        "print(remove_element([1, 2, 3, 2, 4, 2], 2))        # Output: [1, 3, 4]\n",
        "print(remove_element([\"a\", \"b\", \"a\", \"c\"], \"a\"))    # Output: [\"b\", \"c\"]\n",
        "print(remove_element([1, 1, 1, 1], 1))             # Output: []\n",
        "print(remove_element([\"hello\", \"world\"], \"test\"))   # Output: [\"hello\", \"world\"]"
      ],
      "metadata": {
        "colab": {
          "base_uri": "https://localhost:8080/"
        },
        "collapsed": true,
        "id": "YOGMP-_YXtlf",
        "outputId": "21b517e0-21a1-4b50-f486-be4ce3b7094c"
      },
      "execution_count": null,
      "outputs": [
        {
          "output_type": "stream",
          "name": "stdout",
          "text": [
            "[1, 3, 4]\n",
            "['b', 'c']\n",
            "[]\n",
            "['hello', 'world']\n"
          ]
        }
      ]
    },
    {
      "cell_type": "code",
      "source": [
        "# 12. Implement a code to find the second largest number in a given list of integers.\n",
        "def find_second_largest(numbers):\n",
        "    # Check if list has less than 2 elements\n",
        "    if len(numbers) < 2:\n",
        "        return None\n",
        "\n",
        "    # Initialize largest and second largest\n",
        "    largest = max(numbers[0], numbers[1])\n",
        "    second_largest = min(numbers[0], numbers[1])\n",
        "\n",
        "    # Loop through the rest of the list\n",
        "    for i in range(2, len(numbers)):\n",
        "        if numbers[i] > largest:\n",
        "            second_largest = largest  # Old largest becomes second\n",
        "            largest = numbers[i]      # New largest\n",
        "        elif numbers[i] > second_largest and numbers[i] != largest:\n",
        "            second_largest = numbers[i]  # Update second largest\n",
        "\n",
        "    return second_largest\n",
        "\n",
        "# Test cases\n",
        "print(find_second_largest([5, 2, 8, 1, 9, 3]))    # Output: 8\n",
        "print(find_second_largest([10, 10, 10]))          # Output: 10\n",
        "print(find_second_largest([1, 2, 3, 4]))         # Output: 3"
      ],
      "metadata": {
        "colab": {
          "base_uri": "https://localhost:8080/"
        },
        "collapsed": true,
        "id": "vMrSFo0jYGgO",
        "outputId": "d41c91c1-fbc6-4c8f-d1b4-540eba91243b"
      },
      "execution_count": null,
      "outputs": [
        {
          "output_type": "stream",
          "name": "stdout",
          "text": [
            "8\n",
            "10\n",
            "3\n"
          ]
        }
      ]
    },
    {
      "cell_type": "code",
      "source": [
        "# 13. Create a code to count the occurrences of each element in a list and return a dictionary with elements as keys and their counts as values.\n",
        "def count_elements(lst):\n",
        "    # Create an empty dictionary to store counts\n",
        "    count_dict = {}\n",
        "\n",
        "    # Loop through each element in the list\n",
        "    for item in lst:\n",
        "        # Add or update count in dictionary\n",
        "        count_dict[item] = count_dict.get(item, 0) + 1\n",
        "\n",
        "    return count_dict\n",
        "\n",
        "# Test cases\n",
        "print(count_elements([1, 2, 2, 3, 1, 4]))          # Output: {1: 2, 2: 2, 3: 1, 4: 1}\n",
        "print(count_elements([\"a\", \"b\", \"a\", \"c\"]))        # Output: {'a': 2, 'b': 1, 'c': 1}\n",
        "print(count_elements([1, 1, 1]))                   # Output: {1: 3}"
      ],
      "metadata": {
        "colab": {
          "base_uri": "https://localhost:8080/"
        },
        "collapsed": true,
        "id": "1jRU7gHyYakU",
        "outputId": "82ed9ea5-8946-4451-dd9e-d403d70e83b6"
      },
      "execution_count": null,
      "outputs": [
        {
          "output_type": "stream",
          "name": "stdout",
          "text": [
            "{1: 2, 2: 2, 3: 1, 4: 1}\n",
            "{'a': 2, 'b': 1, 'c': 1}\n",
            "{1: 3}\n"
          ]
        }
      ]
    },
    {
      "cell_type": "code",
      "source": [
        "# 14. Write a code to reverse a list in-place without using any built-in reverse functions.\n",
        "def reverse_list(lst):\n",
        "    # Get the start and end indices\n",
        "    left = 0\n",
        "    right = len(lst) - 1\n",
        "\n",
        "    # Swap elements from outside moving inward\n",
        "    while left < right:\n",
        "        # Swap elements at left and right indices\n",
        "        lst[left], lst[right] = lst[right], lst[left]\n",
        "        left += 1   # Move left pointer right\n",
        "        right -= 1  # Move right pointer left\n",
        "\n",
        "    return lst\n",
        "\n",
        "# Test cases\n",
        "lst1 = [1, 2, 3, 4, 5]\n",
        "print(reverse_list(lst1))          # Output: [5, 4, 3, 2, 1]\n",
        "\n",
        "lst2 = [\"a\", \"b\", \"c\"]\n",
        "print(reverse_list(lst2))          # Output: [\"c\", \"b\", \"a\"]"
      ],
      "metadata": {
        "colab": {
          "base_uri": "https://localhost:8080/"
        },
        "collapsed": true,
        "id": "GYGefGOFY5Di",
        "outputId": "69955094-1906-46e4-fcdb-3a9bc3285213"
      },
      "execution_count": null,
      "outputs": [
        {
          "output_type": "stream",
          "name": "stdout",
          "text": [
            "[5, 4, 3, 2, 1]\n",
            "['c', 'b', 'a']\n"
          ]
        }
      ]
    },
    {
      "cell_type": "code",
      "source": [
        "# 15.  Implement a code to find and remove duplicates from a list while preserving the original order of elements.\n",
        "def remove_duplicates(lst):\n",
        "    # Dictionary to track seen elements\n",
        "    seen = {}\n",
        "    # List to store result while preserving order\n",
        "    result = []\n",
        "\n",
        "    # Loop through the list\n",
        "    for item in lst:\n",
        "        # If item hasn't been seen, add to result and mark as seen\n",
        "        if item not in seen:\n",
        "            seen[item] = True\n",
        "            result.append(item)\n",
        "\n",
        "    return result\n",
        "\n",
        "# Test cases\n",
        "print(remove_duplicates([1, 3, 5, 3, 7, 1, 4]))    # Output: [1, 3, 5, 7, 4]\n",
        "print(remove_duplicates([\"a\", \"b\", \"a\", \"c\", \"b\"])) # Output: [\"a\", \"b\", \"c\"]\n",
        "print(remove_duplicates([2, 2, 2, 2]))             # Output: [2]"
      ],
      "metadata": {
        "colab": {
          "base_uri": "https://localhost:8080/"
        },
        "collapsed": true,
        "id": "a1NwEhgrZZGt",
        "outputId": "fff5cb70-ee95-4eb2-ff4c-5c3647ada835"
      },
      "execution_count": null,
      "outputs": [
        {
          "output_type": "stream",
          "name": "stdout",
          "text": [
            "[1, 3, 5, 7, 4]\n",
            "['a', 'b', 'c']\n",
            "[2]\n"
          ]
        }
      ]
    },
    {
      "cell_type": "code",
      "source": [
        "# 16. Create a code to check if a given list is sorted (either in ascending or descending order) or not.\n",
        "def is_sorted_concise(data):\n",
        "  \"\"\"\n",
        "  Checks if a given list is sorted (ascending or descending) - concise version.\n",
        "  \"\"\"\n",
        "  n = len(data)\n",
        "  if n <= 1:\n",
        "    return True\n",
        "  return all(data[i] <= data[i + 1] for i in range(n - 1)) or \\\n",
        "         all(data[i] >= data[i + 1] for i in range(n - 1))\n",
        "\n",
        "# Example Usage\n",
        "my_list1 = [1, 2, 3, 4, 5]\n",
        "my_list2 = [5, 4, 3, 2, 1]\n",
        "my_list3 = [1, 3, 2, 4]\n",
        "\n",
        "# Call the correct function name 'is_sorted_concise'\n",
        "print(f\"{my_list1} is sorted: {is_sorted_concise(my_list1)}\")  # Output: True\n",
        "print(f\"{my_list2} is sorted: {is_sorted_concise(my_list2)}\")  # Output: True\n",
        "print(f\"{my_list3} is sorted: {is_sorted_concise(my_list3)}\")  # Output: False"
      ],
      "metadata": {
        "colab": {
          "base_uri": "https://localhost:8080/"
        },
        "id": "QdpV6nWZaKmz",
        "outputId": "1892b4fc-40ba-437b-978b-55f151bb4d48",
        "collapsed": true
      },
      "execution_count": 1,
      "outputs": [
        {
          "output_type": "stream",
          "name": "stdout",
          "text": [
            "[1, 2, 3, 4, 5] is sorted: True\n",
            "[5, 4, 3, 2, 1] is sorted: True\n",
            "[1, 3, 2, 4] is sorted: False\n"
          ]
        }
      ]
    },
    {
      "cell_type": "code",
      "source": [
        "# 17. Write a code to merge two sorted lists into a single sorted list.\n",
        "def merge_sorted_lists_simple(list1, list2):\n",
        "    return sorted(list1 + list2)\n",
        "\n",
        "# Example usage\n",
        "list1 = [1, 3, 5, 7]\n",
        "list2 = [2, 4, 6, 8]\n",
        "result = merge_sorted_lists_simple(list1, list2)\n",
        "print(result)  # Output: [1, 2, 3, 4, 5, 6, 7, 8]\n"
      ],
      "metadata": {
        "colab": {
          "base_uri": "https://localhost:8080/"
        },
        "collapsed": true,
        "id": "uh3VSaz3ciNd",
        "outputId": "2e18df91-4a6b-4206-a86e-b8699ca54408"
      },
      "execution_count": 2,
      "outputs": [
        {
          "output_type": "stream",
          "name": "stdout",
          "text": [
            "[1, 2, 3, 4, 5, 6, 7, 8]\n"
          ]
        }
      ]
    },
    {
      "cell_type": "code",
      "source": [
        "# 18.  Implement a code to find the intersection of two given lists.\n",
        "def find_intersection(list1, list2):\n",
        "    # Convert lists to sets and find intersection\n",
        "    set1 = set(list1)\n",
        "    set2 = set(list2)\n",
        "    return list(set1.intersection(set2))\n",
        "\n",
        "# Example usage\n",
        "list1 = [1, 2, 3, 4, 5]\n",
        "list2 = [4, 5, 6, 7, 8]\n",
        "result = find_intersection(list1, list2)\n",
        "print(result)  # Output: [4, 5]"
      ],
      "metadata": {
        "colab": {
          "base_uri": "https://localhost:8080/"
        },
        "collapsed": true,
        "id": "LlyCcE7DhQOy",
        "outputId": "8ab81b0f-f3f7-48c4-9ebf-916cec1f1e02"
      },
      "execution_count": 3,
      "outputs": [
        {
          "output_type": "stream",
          "name": "stdout",
          "text": [
            "[4, 5]\n"
          ]
        }
      ]
    },
    {
      "cell_type": "code",
      "source": [
        "# 19. Create a code to find the union of two lists without duplicates.\n",
        "def find_union(list1, list2):\n",
        "    # Convert to sets and use union operation\n",
        "    return list(set(list1).union(set(list2)))\n",
        "\n",
        "# Example usage\n",
        "list1 = [1, 2, 3, 4]\n",
        "list2 = [3, 4, 5, 6]\n",
        "result = find_union(list1, list2)\n",
        "print(result)  # Output: [1, 2, 3, 4, 5, 6]"
      ],
      "metadata": {
        "colab": {
          "base_uri": "https://localhost:8080/"
        },
        "collapsed": true,
        "id": "0ABgtr-_htzs",
        "outputId": "7a363298-aa93-4d62-ef13-394e6bd95651"
      },
      "execution_count": 4,
      "outputs": [
        {
          "output_type": "stream",
          "name": "stdout",
          "text": [
            "[1, 2, 3, 4, 5, 6]\n"
          ]
        }
      ]
    },
    {
      "cell_type": "code",
      "source": [
        "# 20. Write a code to shuffle a given list randomly without using any built-in shuffle functions.\n",
        "import random\n",
        "\n",
        "def shuffle_simple(lst):\n",
        "  n = len(lst)\n",
        "  for i in range(n - 1, 0, -1):\n",
        "    j = random.randint(0, i)\n",
        "    lst[i], lst[j] = lst[j], lst[i]\n",
        "  return lst\n",
        "\n",
        "# Example:\n",
        "my_list = [1, 2, 3, 4, 5]\n",
        "shuffled_list = shuffle_simple(my_list)\n",
        "print(shuffled_list)"
      ],
      "metadata": {
        "colab": {
          "base_uri": "https://localhost:8080/"
        },
        "collapsed": true,
        "id": "JQiBfGbviKq6",
        "outputId": "4c8b5fdd-9180-40cd-dc91-9b2582215785"
      },
      "execution_count": 5,
      "outputs": [
        {
          "output_type": "stream",
          "name": "stdout",
          "text": [
            "[1, 3, 2, 5, 4]\n"
          ]
        }
      ]
    },
    {
      "cell_type": "code",
      "source": [
        "# 21. Write a code that takes two tuples as input and returns a new tuple containing elements that are common to both input tuples.\n",
        "def tuple_intersection_listcomp(tuple1, tuple2):\n",
        "    # Create tuple of elements from tuple1 that are in tuple2\n",
        "    return tuple(x for x in tuple1 if x in tuple2)\n",
        "\n",
        "# Example usage\n",
        "tuple1 = (1, 2, 3, 4, 5)\n",
        "tuple2 = (4, 5, 6, 7, 8)\n",
        "result = tuple_intersection_listcomp(tuple1, tuple2)\n",
        "print(result)  # Output: (4, 5)"
      ],
      "metadata": {
        "colab": {
          "base_uri": "https://localhost:8080/"
        },
        "collapsed": true,
        "id": "c3jXYycyi3ZN",
        "outputId": "50b44ab5-0298-4fbc-e543-2e02967d7a0d"
      },
      "execution_count": 7,
      "outputs": [
        {
          "output_type": "stream",
          "name": "stdout",
          "text": [
            "(4, 5)\n"
          ]
        }
      ]
    },
    {
      "cell_type": "code",
      "source": [
        "# 22. Create a code that prompts the user to enter two sets of integers separated by commas. Then, print the intersection of these two sets.\n",
        "def get_set_from_input(prompt):\n",
        "    while True:\n",
        "        try:\n",
        "            return set(map(int, input(prompt).replace(\" \", \"\").split(',')))\n",
        "        except ValueError:\n",
        "            print(\"Invalid input. Please enter integers separated by commas.\")\n",
        "\n",
        "set1 = get_set_from_input(\"Enter the first set of integers (comma-separated): \")\n",
        "set2 = get_set_from_input(\"Enter the second set of integers (comma-separated): \")\n",
        "\n",
        "common = set1 & set2\n",
        "print(\"Intersection:\", common)"
      ],
      "metadata": {
        "colab": {
          "base_uri": "https://localhost:8080/"
        },
        "collapsed": true,
        "id": "ELdqMdv2kERL",
        "outputId": "221383d2-cbea-4cc5-b343-3e9cdb01c71c"
      },
      "execution_count": 9,
      "outputs": [
        {
          "output_type": "stream",
          "name": "stdout",
          "text": [
            "Enter the first set of integers (comma-separated): 1,2,2,3\n",
            "Enter the second set of integers (comma-separated): 2,3,3,4\n",
            "Intersection: {2, 3}\n"
          ]
        }
      ]
    },
    {
      "cell_type": "code",
      "source": [
        "# 23. Write a code to concatenate two tuples. The function should take two tuples as input and return a new tuple containing elements from both input tuples.\n",
        "def concatenate_tuples(tuple1, tuple2):\n",
        "    # Use + operator to concatenate tuples\n",
        "    return tuple1 + tuple2\n",
        "\n",
        "# Example usage\n",
        "tuple1 = (1, 2, 3)\n",
        "tuple2 = (4, 5, 6)\n",
        "result = concatenate_tuples(tuple1, tuple2)\n",
        "print(result)  # Output: (1, 2, 3, 4, 5, 6)"
      ],
      "metadata": {
        "colab": {
          "base_uri": "https://localhost:8080/"
        },
        "collapsed": true,
        "id": "2LCWZcMmlpXt",
        "outputId": "9b3fbe97-6986-454c-a607-2c16fc19b7cf"
      },
      "execution_count": 10,
      "outputs": [
        {
          "output_type": "stream",
          "name": "stdout",
          "text": [
            "(1, 2, 3, 4, 5, 6)\n"
          ]
        }
      ]
    },
    {
      "cell_type": "code",
      "source": [
        "# 24. Develop a code that prompts the user to input two sets of strings. Then, print the elements that are present in the first set but not in the second set.\n",
        "set1_str = input(\"Enter first set of strings (comma-separated): \")\n",
        "set2_str = input(\"Enter second set of strings (comma-separated): \")\n",
        "\n",
        "set1 = {s.strip() for s in set1_str.split(',') if s.strip()}\n",
        "set2 = {s.strip() for s in set2_str.split(',') if s.strip()}\n",
        "\n",
        "difference = set1 - set2\n",
        "print(\"Elements in the first set but not in the second:\", difference)"
      ],
      "metadata": {
        "colab": {
          "base_uri": "https://localhost:8080/"
        },
        "collapsed": true,
        "id": "8RHP-THmmL_g",
        "outputId": "53ed559a-a007-4cf1-b3c5-c0493fc4d77b"
      },
      "execution_count": 11,
      "outputs": [
        {
          "output_type": "stream",
          "name": "stdout",
          "text": [
            "Enter first set of strings (comma-separated): apple, cherry\n",
            "Enter second set of strings (comma-separated): apple, date\n",
            "Elements in the first set but not in the second: {'cherry'}\n"
          ]
        }
      ]
    },
    {
      "cell_type": "code",
      "source": [
        "# 25. Create a code that takes a tuple and two integers as input. The function should return a new tuple containing elements from the original tuple within the specified range of indices.\n",
        "def slice_tuple(input_tuple, start, end):\n",
        "    return input_tuple[start:end]\n",
        "\n",
        "# Example usage\n",
        "my_tuple = (1, 2, 3, 4, 5)\n",
        "result = slice_tuple(my_tuple, 1, 4)\n",
        "print(result)  # Output: (2, 3, 4)\n",
        "\n",
        "# More examples\n",
        "print(slice_tuple(my_tuple, 0, 3))  # Output: (1, 2, 3)\n",
        "print(slice_tuple(my_tuple, 2, 5))  # Output: (3, 4, 5)"
      ],
      "metadata": {
        "colab": {
          "base_uri": "https://localhost:8080/"
        },
        "collapsed": true,
        "id": "Y7bbXob5nQKq",
        "outputId": "472fbfb1-31d9-4f7e-8148-c2da48a5b880"
      },
      "execution_count": 12,
      "outputs": [
        {
          "output_type": "stream",
          "name": "stdout",
          "text": [
            "(2, 3, 4)\n",
            "(1, 2, 3)\n",
            "(3, 4, 5)\n"
          ]
        }
      ]
    },
    {
      "cell_type": "code",
      "source": [
        "# 26. Write a code that prompts the user to input two sets of characters. Then, print the union of these two sets.\n",
        "set1_str = input(\"Enter first set of characters (comma-separated): \")\n",
        "set2_str = input(\"Enter second set of characters (comma-separated): \")\n",
        "\n",
        "set1 = set(set1_str.replace(\" \", \"\"))\n",
        "set2 = set(set2_str.replace(\" \", \"\"))\n",
        "\n",
        "union_set = set1.union(set2)\n",
        "print(\"Union:\", union_set)"
      ],
      "metadata": {
        "colab": {
          "base_uri": "https://localhost:8080/"
        },
        "collapsed": true,
        "id": "EsShM2WYn81M",
        "outputId": "f798f2b0-bbd0-422f-eb56-78b3958bbd9b"
      },
      "execution_count": 13,
      "outputs": [
        {
          "output_type": "stream",
          "name": "stdout",
          "text": [
            "Enter first set of characters (comma-separated): a,b,c\n",
            "Enter second set of characters (comma-separated): b,d,e\n",
            "Union: {'a', 'd', 'b', 'e', 'c', ','}\n"
          ]
        }
      ]
    },
    {
      "cell_type": "code",
      "source": [
        "# 27. Develop a code that takes a tuple of integers as input. The function should return the maximum and minimum values from the tuple using tuple unpacking.\n",
        "def get_min_max(nums):\n",
        "  if not nums:\n",
        "    return None, None\n",
        "  return max(nums), min(nums)\n",
        "\n",
        "# Example\n",
        "numbers = (5, 2, 8, 1, 9, 3)\n",
        "maximum, minimum = get_min_max(numbers)\n",
        "print(f\"Maximum: {maximum}\")\n",
        "print(f\"Minimum: {minimum}\")"
      ],
      "metadata": {
        "colab": {
          "base_uri": "https://localhost:8080/"
        },
        "collapsed": true,
        "id": "ATQIemuNohC1",
        "outputId": "87c95258-191a-464b-c506-0b2b886d6317"
      },
      "execution_count": 14,
      "outputs": [
        {
          "output_type": "stream",
          "name": "stdout",
          "text": [
            "Maximum: 9\n",
            "Minimum: 1\n"
          ]
        }
      ]
    },
    {
      "cell_type": "code",
      "source": [
        "# 28. Create a code that defines two sets of integers. Then, print the union, intersection, and difference of these two sets.\n",
        "set1 = {1, 2, 3}\n",
        "set2 = {3, 4, 5}\n",
        "\n",
        "print(\"Union:\", set1 | set2)\n",
        "print(\"Intersection:\", set1 & set2)\n",
        "print(\"Difference (set1 - set2):\", set1 - set2)\n",
        "print(\"Difference (set2 - set1):\", set2 - set1)"
      ],
      "metadata": {
        "colab": {
          "base_uri": "https://localhost:8080/"
        },
        "collapsed": true,
        "id": "hjPGKt3qo_jt",
        "outputId": "3d6ed493-f8bf-4d21-c42f-d5ec2f0f7021"
      },
      "execution_count": 15,
      "outputs": [
        {
          "output_type": "stream",
          "name": "stdout",
          "text": [
            "Union: {1, 2, 3, 4, 5}\n",
            "Intersection: {3}\n",
            "Difference (set1 - set2): {1, 2}\n",
            "Difference (set2 - set1): {4, 5}\n"
          ]
        }
      ]
    },
    {
      "cell_type": "code",
      "source": [
        "# 29. Write a code that takes a tuple and an element as input. The function should return the count of occurrences of the given element in the tuple.\n",
        "def count_occurrences(tup, element):\n",
        "  return tup.count(element)\n",
        "\n",
        "# Example\n",
        "my_tuple = (1, 2, 2, 3, 2, 4)\n",
        "item_to_find = 2\n",
        "count = count_occurrences(my_tuple, item_to_find)\n",
        "print(f\"The element {item_to_find} appears {count} times.\")"
      ],
      "metadata": {
        "colab": {
          "base_uri": "https://localhost:8080/"
        },
        "collapsed": true,
        "id": "JkOs1806pbXV",
        "outputId": "6294e6e0-029d-4983-c619-ede59ea35bdc"
      },
      "execution_count": 1,
      "outputs": [
        {
          "output_type": "stream",
          "name": "stdout",
          "text": [
            "The element 2 appears 3 times.\n"
          ]
        }
      ]
    },
    {
      "cell_type": "code",
      "source": [
        "# 30.  Develop a code that prompts the user to input two sets of strings. Then, print the symmetric difference of these two sets.\n",
        "set1_str = input(\"Enter first set of strings (comma-separated): \")\n",
        "set2_str = input(\"Enter second set of strings (comma-separated): \")\n",
        "\n",
        "set1 = {s.strip() for s in set1_str.split(',') if s.strip()}\n",
        "set2 = {s.strip() for s in set2_str.split(',') if s.strip()}\n",
        "\n",
        "symmetric_difference = set1 ^ set2\n",
        "print(\"Symmetric Difference:\", symmetric_difference)"
      ],
      "metadata": {
        "colab": {
          "base_uri": "https://localhost:8080/"
        },
        "collapsed": true,
        "id": "fzKhtwjeFkx8",
        "outputId": "c5d64c13-0535-4ea8-9e77-ee3dcb718eba"
      },
      "execution_count": 2,
      "outputs": [
        {
          "output_type": "stream",
          "name": "stdout",
          "text": [
            "Enter first set of strings (comma-separated): cherry, apple, banana\n",
            "Enter second set of strings (comma-separated): date, banana\n",
            "Symmetric Difference: {'date', 'cherry', 'apple'}\n"
          ]
        }
      ]
    },
    {
      "cell_type": "code",
      "source": [
        "# 31. Write a code that takes a list of words as input and returns a dictionary where the keys are unique words and the values are the frequencies of those words in the input list.\n",
        "def word_frequency(words):\n",
        "  counts = {}\n",
        "  for word in words:\n",
        "    word = word.lower()\n",
        "    counts[word] = counts.get(word, 0) + 1\n",
        "  return counts\n",
        "\n",
        "# Example\n",
        "word_list = [\"apple\", \"Banana\", \"apple\", \"kiwi\", \"BANANA\"]\n",
        "frequencies = word_frequency(word_list)\n",
        "print(frequencies)"
      ],
      "metadata": {
        "colab": {
          "base_uri": "https://localhost:8080/"
        },
        "collapsed": true,
        "id": "mOYjwYZmGghx",
        "outputId": "998ab554-a7b0-45ec-8661-9a889fe6ffe0"
      },
      "execution_count": 3,
      "outputs": [
        {
          "output_type": "stream",
          "name": "stdout",
          "text": [
            "{'apple': 2, 'banana': 2, 'kiwi': 1}\n"
          ]
        }
      ]
    },
    {
      "cell_type": "code",
      "source": [
        "# 32. Write a code that takes two dictionaries as input and merges them into a single dictionary. If there are common keys, the values should be added together.\n",
        "def merge_dicts_add(d1, d2):\n",
        "  merged = d1.copy()\n",
        "  for key, value in d2.items():\n",
        "    merged[key] = merged.get(key, 0) + value\n",
        "  return merged\n",
        "\n",
        "# Different example with different data types for values\n",
        "dict_a = {'apple': 2, 'banana': 3}\n",
        "dict_b = {'banana': 1, 'cherry': 5}\n",
        "result = merge_dicts_add(dict_a, dict_b)\n",
        "print(result)"
      ],
      "metadata": {
        "colab": {
          "base_uri": "https://localhost:8080/"
        },
        "collapsed": true,
        "id": "E9guOAsgG6F1",
        "outputId": "7ec1c4a0-483e-4c76-b280-ff55cd963901"
      },
      "execution_count": 4,
      "outputs": [
        {
          "output_type": "stream",
          "name": "stdout",
          "text": [
            "{'apple': 2, 'banana': 4, 'cherry': 5}\n"
          ]
        }
      ]
    },
    {
      "cell_type": "code",
      "source": [
        "# 33. Write a code to access a value in a nested dictionary. The function should take the dictionary and a list of keys as input, and return the corresponding value. If any of the keys do not exist in the dictionary, the function should return None.\n",
        "def get_nested(data, keys):\n",
        "  current = data\n",
        "  for key in keys:\n",
        "    if key in current:\n",
        "      current = current[key]\n",
        "    else:\n",
        "      return None\n",
        "  return current\n",
        "\n",
        "# Example\n",
        "my_dict = {'a': 1, 'b': {'c': 2, 'd': 3}}\n",
        "path = ['b', 'c']\n",
        "value = get_nested(my_dict, path)\n",
        "print(value)  # Output: 2\n",
        "\n",
        "path_not_found = ['b', 'e']\n",
        "value_not_found = get_nested(my_dict, path_not_found)\n",
        "print(value_not_found) # Output: None"
      ],
      "metadata": {
        "colab": {
          "base_uri": "https://localhost:8080/"
        },
        "collapsed": true,
        "id": "1XpTlahcHTUq",
        "outputId": "af3a6433-ce38-4d25-bb46-882db6d72cb9"
      },
      "execution_count": 6,
      "outputs": [
        {
          "output_type": "stream",
          "name": "stdout",
          "text": [
            "2\n",
            "None\n"
          ]
        }
      ]
    },
    {
      "cell_type": "code",
      "source": [
        "# 34.  Write a code that takes a dictionary as input and returns a sorted version of it based on the values. You can choose whether to sort in ascending or descending order.\n",
        "def sort_dict_by_value(data, reverse=False):\n",
        "  return sorted(data.items(), key=lambda item: item[1], reverse=reverse)\n",
        "\n",
        "# Example (ascending)\n",
        "my_dict = {'a': 10, 'c': 5, 'b': 25}\n",
        "sorted_asc = sort_dict_by_value(my_dict)\n",
        "print(sorted_asc)\n",
        "\n",
        "# Example (descending)\n",
        "sorted_desc = sort_dict_by_value(my_dict, reverse=True)\n",
        "print(sorted_desc)"
      ],
      "metadata": {
        "colab": {
          "base_uri": "https://localhost:8080/"
        },
        "collapsed": true,
        "id": "Bcfw4h0UIM1j",
        "outputId": "c1d97951-4555-4207-fabb-a512a619263e"
      },
      "execution_count": 7,
      "outputs": [
        {
          "output_type": "stream",
          "name": "stdout",
          "text": [
            "[('c', 5), ('a', 10), ('b', 25)]\n",
            "[('b', 25), ('a', 10), ('c', 5)]\n"
          ]
        }
      ]
    },
    {
      "cell_type": "code",
      "source": [
        "# 35. Write a code that inverts a dictionary, swapping keys and values. Ensure that the inverted dictionary correctly handles cases where multiple keys have the same value by storing the keys as a list in the inverted dictionary.\n",
        "def invert_dict(input_dict):\n",
        "  inverted = {}\n",
        "  for key, value in input_dict.items():\n",
        "    if value in inverted:\n",
        "      if not isinstance(inverted[value], list):\n",
        "        inverted[value] = [inverted[value]]\n",
        "      inverted[value].append(key)\n",
        "    else:\n",
        "      inverted[value] = key\n",
        "  return inverted\n",
        "\n",
        "# Example\n",
        "my_dict = {'a': 1, 'b': 2, 'c': 1, 'd': 3}\n",
        "inverted_dict = invert_dict(my_dict)\n",
        "print(inverted_dict)  # Output: {1: ['a', 'c'], 2: 'b', 3: 'd'}"
      ],
      "metadata": {
        "colab": {
          "base_uri": "https://localhost:8080/"
        },
        "collapsed": true,
        "id": "6KgH06RhIjq5",
        "outputId": "e8c39a37-464e-4df8-eb1c-f3e65fa81ce8"
      },
      "execution_count": 9,
      "outputs": [
        {
          "output_type": "stream",
          "name": "stdout",
          "text": [
            "{1: ['a', 'c'], 2: 'b', 3: 'd'}\n"
          ]
        }
      ]
    }
  ]
}